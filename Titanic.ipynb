{
 "cells": [
  {
   "cell_type": "code",
   "execution_count": 1,
   "metadata": {
    "collapsed": false
   },
   "outputs": [
    {
     "name": "stderr",
     "output_type": "stream",
     "text": [
      "C:\\Anaconda3\\lib\\site-packages\\sklearn\\cross_validation.py:44: DeprecationWarning: This module was deprecated in version 0.18 in favor of the model_selection module into which all the refactored classes and functions are moved. Also note that the interface of the new CV iterators are different from that of this module. This module will be removed in 0.20.\n",
      "  \"This module will be removed in 0.20.\", DeprecationWarning)\n"
     ]
    },
    {
     "data": {
      "text/plain": [
       "'C:\\\\Users\\\\Andrew\\\\Google Drive\\\\Work\\\\ActiveCampaign'"
      ]
     },
     "execution_count": 1,
     "metadata": {},
     "output_type": "execute_result"
    }
   ],
   "source": [
    "import os\n",
    "import pandas as pd\n",
    "import numpy as np\n",
    "import matplotlib.pyplot as plt\n",
    "from matplotlib import *\n",
    "from sklearn import svm, preprocessing, cross_validation\n",
    "from sklearn.model_selection import GridSearchCV\n",
    "from sklearn.metrics import confusion_matrix\n",
    "from sklearn import decomposition\n",
    "from sklearn.cross_validation import cross_val_score\n",
    "from sklearn.cross_validation import StratifiedKFold\n",
    "from sklearn.preprocessing import StandardScaler\n",
    "from sklearn.ensemble import RandomForestClassifier\n",
    "from sklearn.ensemble.gradient_boosting import GradientBoostingClassifier\n",
    "import csv\n",
    "%matplotlib inline\n",
    "\n",
    "path = \"C:\\\\Users\\Andrew\\Google Drive\\Work\\ActiveCampaign\"\n",
    "os.chdir(path)\n",
    "os.getcwd()"
   ]
  },
  {
   "cell_type": "code",
   "execution_count": 2,
   "metadata": {
    "collapsed": false
   },
   "outputs": [],
   "source": [
    "################ Data Manipulation\n",
    "\n",
    "df_train = pd.read_csv('train.csv')\n",
    "# df_train.head(10)\n",
    "# df_train.describe()\n",
    "\n",
    "df_test = pd.read_csv('test.csv')\n",
    "# df_test.head(10)\n",
    "# df_test.describe()\n",
    "\n",
    "def clean_data(data):\n",
    "    data.drop(['PassengerId', 'Ticket', 'Cabin'], axis = 1, inplace = True)\n",
    "    # Pclass\n",
    "    data['UpperClass'] = np.where(data.Pclass == 1, 1, 0)\n",
    "    data['MiddleClass'] = np.where(data.Pclass == 2, 1, 0)\n",
    "    data['LowerClass'] = np.where(data.Pclass == 3, 1, 0)\n",
    "    data.drop(['Pclass'], axis = 1, inplace = True)\n",
    "    \n",
    "    # Age\n",
    "    data.Age.replace(np.NaN, 28, inplace = True)\n",
    "    \n",
    "    # Embarked\n",
    "    data['Southampton'] = np.where(data.Embarked == 'S', 1, 0)\n",
    "    data['Queenstown'] = np.where(data.Embarked == 'Q', 1, 0)\n",
    "    data['Cherbourg'] = np.where(data.Embarked == 'C', 1, 0)\n",
    "    data.drop(['Embarked'], axis = 1, inplace = True)\n",
    "    \n",
    "    # Sex\n",
    "    data.rename(columns = {'Sex': 'Male'}, inplace = True)\n",
    "    data.Male = data.Male.map({'male' : 1, 'female' : 0}).astype(int)\n",
    "    \n",
    "    # Fare\n",
    "    data.Fare.replace(np.NaN, 10, inplace = True)\n",
    "    \n",
    "    # Name\n",
    "    data['Title'] = data['Name'].map(lambda name:name.split(',')[1].split('.')[0].strip())\n",
    "    data['Mr'] = np.where(data.Title == \"Mr\", 1, 0)\n",
    "    data['Mrs'] = np.where(data.Title == \"Mrs\", 1, 0)\n",
    "    data['Miss'] = np.where(data.Title == \"Miss\", 1, 0)\n",
    "    data['Master'] = np.where(data.Title == \"Master\", 1, 0)\n",
    "    data['OtherTitle'] = np.where((data.Title != \"Mr\") & (data.Title != \"Mrs\") & (data.Title != \"Miss\")\n",
    "                                 & (data.Title != \"Master\"), 1, 0)\n",
    "    data.drop(['Title'], axis = 1, inplace = True)\n",
    "    data.drop(['Name'], axis = 1, inplace = True)\n",
    "    \n",
    "    # SibSp, Parch\n",
    "    data['FamilySize'] = data.SibSp + data.Parch + 1\n",
    "    data['Single'] = np.where(data.FamilySize == 1, 1, 0)\n",
    "    data['SmallFamily'] = np.where((data.FamilySize < 5) & (data.FamilySize != 1), 1, 0)\n",
    "    data['LargeFamily'] = np.where(data.FamilySize > 4, 1, 0)\n",
    "#     data.drop(['SibSp'], axis = 1, inplace = True)\n",
    "#     data.drop(['Parch'], axis = 1, inplace = True)\n",
    "    \n",
    "clean_data(df_train)\n",
    "clean_data(df_test)\n",
    "# pd.isnull(df_test).sum()\n",
    "# df_train.head(10)\n",
    "# pd.value_counts(df_train.LargeFamily)\n",
    "# len(df_train.columns)"
   ]
  },
  {
   "cell_type": "code",
   "execution_count": 24,
   "metadata": {
    "collapsed": true
   },
   "outputs": [
    {
     "data": {
      "image/png": "[encoded data removed]",
      "text/plain": [
       "<matplotlib.figure.Figure at 0x1bb66106c50>"
      ]
     },
     "metadata": {},
     "output_type": "display_data"
    }
   ],
   "source": [
    "# Stacked Histogram of Survival Rates Based on Sex\n",
    "survived_sex = df_train[df_train['Survived']==1]['Male'].value_counts()\n",
    "dead_sex = df_train[df_train['Survived']==0]['Male'].value_counts()\n",
    "df = pd.DataFrame([survived_sex,dead_sex])\n",
    "df.index = ['Survived','Dead']\n",
    "df.plot(kind='bar',stacked=True, figsize=(12,8), color = ['g', 'r'])\n",
    "plt.xlabel(\"Survival\")\n",
    "plt.ylabel(\"Count\")\n",
    "plt.legend([\"Female\", \"Male\"], loc = \"upper left\")\n",
    "plt.show()"
   ]
  },
  {
   "cell_type": "code",
   "execution_count": 5,
   "metadata": {
    "collapsed": false
   },
   "outputs": [],
   "source": [
    "# Stacked Histogram of Ages with Survival\n",
    "plt.hist([df_train[df_train['Survived']==1]['Age'], df_train[df_train['Survived']==0]['Age']], stacked=True, color = ['g','r'],\n",
    "         bins = 30,label = ['Survived','Dead'])\n",
    "plt.xlabel('Age')\n",
    "plt.ylabel('Number of passengers')\n",
    "plt.legend()\n",
    "plt.show()"
   ]
  },
  {
   "cell_type": "code",
   "execution_count": 25,
   "metadata": {
    "collapsed": true
   },
   "outputs": [
    {
     "data": {
      "image/png": "[encoded data removed]",
      "text/plain": [
       "<matplotlib.figure.Figure at 0x1bb661a3f60>"
      ]
     },
     "metadata": {},
     "output_type": "display_data"
    }
   ],
   "source": [
    "# Scatter Plot of Age vs Class with Survival\n",
    "ax = plt.subplot()\n",
    "ax.scatter(df_train[df_train['Survived']==1]['Age'],df_train[df_train['Survived']==1]['FamilySize'],c='green',s=40)\n",
    "ax.scatter(df_train[df_train['Survived']==0]['Age'],df_train[df_train['Survived']==0]['FamilySize'],c='red',s=40)\n",
    "ax.set_xlabel('Age')\n",
    "ax.set_ylabel('FamilySize')\n",
    "ax.legend(('Survived','Dead'),scatterpoints=1,loc='upper right',fontsize=15,)\n",
    "plt.show()"
   ]
  },
  {
   "cell_type": "code",
   "execution_count": 108,
   "metadata": {
    "collapsed": false
   },
   "outputs": [],
   "source": [
    "# Correlation Matrix Plot\n",
    "# df_train.corr()\n",
    "fig = plt.figure()\n",
    "ax = fig.add_subplot(111)\n",
    "cax = ax.matshow(df_train.corr())\n",
    "fig.colorbar(cax)\n",
    "plt.xticks(range(len(df_train.columns)), df_train.columns)\n",
    "plt.yticks(range(len(df_train.columns)), df_train.columns)\n",
    "ax.set_xticklabels(list(df_train), rotation = 45, ha = 'left')\n",
    "ax.set_yticklabels(list(df_train))\n",
    "plt.show()"
   ]
  },
  {
   "cell_type": "code",
   "execution_count": null,
   "metadata": {
    "collapsed": true
   },
   "outputs": [],
   "source": [
    "################ Dimension Reduction / PCA\n",
    "frames = [X_train, X_test]\n",
    "data = pd.concat(frames)\n",
    "\n",
    "std_data = StandardScaler().fit(data).transform(data)\n",
    "pca = decomposition.PCA(n_components=)\n",
    "pca.fit(std_data)\n",
    "pev = pca.explained_variance_\n",
    "data_pca = pca.transform(std_data)\n",
    "X_train = data_pca[:891, :]\n",
    "X_test = data_pca[891:, :]\n",
    "\n",
    "print(data_pca.shape)\n",
    "print(X.shape)\n",
    "print(Xtest.shape)"
   ]
  },
  {
   "cell_type": "code",
   "execution_count": 40,
   "metadata": {
    "collapsed": false
   },
   "outputs": [
    {
     "name": "stdout",
     "output_type": "stream",
     "text": [
      "Best score: 0.8125701459034792\n",
      "Best parameters: {'kernel': 'rbf', 'gamma': 0.0001, 'C': 120}\n"
     ]
    },
    {
     "data": {
      "text/plain": [
       "0.82603815937149272"
      ]
     },
     "execution_count": 40,
     "metadata": {},
     "output_type": "execute_result"
    }
   ],
   "source": [
    "################ Support Vector Machine\n",
    "X_train = np.array(df_train.drop(['Survived'],1))\n",
    "y_train = np.array(df_train['Survived'])\n",
    "\n",
    "X_test = np.array(df_test)\n",
    "# No y_test, y_test will be predictions\n",
    "\n",
    "tuned_parameters = [{'kernel': ['rbf'], 'gamma': [1e-2, 1e-3, 1e-4, 1e-5, 1e-6],\n",
    "                     'C': [100, 110, 120, 125, 130, 140, 150]}]\n",
    "cross_validation = StratifiedKFold(y_train, n_folds=5)\n",
    "\n",
    "clf = GridSearchCV(svm.SVC(), \n",
    "                   scoring = \"accuracy\", \n",
    "                   param_grid = tuned_parameters, \n",
    "                   cv=cross_validation)\n",
    "clf.fit(X_train, y_train)\n",
    "\n",
    "parameters = clf.best_params_\n",
    "\n",
    "print('Best score: {}'.format(clf.best_score_))\n",
    "print('Best parameters: {}'.format(clf.best_params_))\n",
    "\n",
    "prediction = clf.predict(X_test)\n",
    "\n",
    "pred = pd.DataFrame(prediction)\n",
    "pred.rename(columns={ 0 : 'Survived'}, inplace=True) \n",
    "pred['PassengerID'] = range(892, len(pred) + 892)\n",
    "\n",
    "# Within Sample Confusion Matrix\n",
    "prediction_train = clf.predict(X_train)\n",
    "confusion_matrix(y_train, prediction_train)\n",
    "# correct = df_confusion[0][0] + df_confusion[1][1]\n",
    "# correct/len(df_train)"
   ]
  },
  {
   "cell_type": "code",
   "execution_count": 41,
   "metadata": {
    "collapsed": false
   },
   "outputs": [],
   "source": [
    "pred.to_csv('predictions.csv', sep=',', index = False)\n",
    "# clf"
   ]
  },
  {
   "cell_type": "code",
   "execution_count": 52,
   "metadata": {
    "collapsed": false
   },
   "outputs": [
    {
     "name": "stdout",
     "output_type": "stream",
     "text": [
      "Best score: 0.8338945005611672\n",
      "Best parameters: {'bootstrap': True, 'max_features': 'sqrt', 'n_estimators': 20, 'min_samples_leaf': 1, 'max_depth': 4, 'min_samples_split': 2}\n"
     ]
    }
   ],
   "source": [
    "################ RandomForest\n",
    "parameter_grid = {\n",
    "             'max_depth' : [4, 6, 8],\n",
    "             'n_estimators': [10, 20, 30],\n",
    "             'max_features': ['sqrt', 'auto', 'log2'],\n",
    "             'min_samples_split': [0.5, 2, 3],\n",
    "             'min_samples_leaf': [1, 3],\n",
    "             'bootstrap': [True, False],\n",
    "             }\n",
    "forest = RandomForestClassifier()\n",
    "cross_validation = StratifiedKFold(y_train, n_folds=5)\n",
    "\n",
    "clf_RF = GridSearchCV(forest,\n",
    "                    scoring='accuracy',\n",
    "                    param_grid=parameter_grid,\n",
    "                    cv=cross_validation)\n",
    "\n",
    "clf_RF.fit(X_train, y_train)\n",
    "parameters = clf_RF.best_params_\n",
    "\n",
    "print('Best score: {}'.format(clf_RF.best_score_))\n",
    "print('Best parameters: {}'.format(clf_RF.best_params_))\n",
    "\n",
    "prediction = clf_RF.predict(X_test)\n",
    "\n",
    "pred = pd.DataFrame(prediction)\n",
    "pred.rename(columns={ 0 : 'Survived'}, inplace=True) \n",
    "pred['PassengerID'] = range(892, len(pred) + 892)"
   ]
  },
  {
   "cell_type": "code",
   "execution_count": 53,
   "metadata": {
    "collapsed": true
   },
   "outputs": [],
   "source": [
    "pred.to_csv('predictions.csv', sep=',', index = False)"
   ]
  },
  {
   "cell_type": "code",
   "execution_count": 11,
   "metadata": {
    "collapsed": false,
    "scrolled": true
   },
   "outputs": [
    {
     "name": "stdout",
     "output_type": "stream",
     "text": [
      "Best: 0.383838 using {'neurons2': 1, 'neurons1': 1}\n"
     ]
    }
   ],
   "source": [
    "################ Neural Network\n",
    "\n",
    "from sklearn.model_selection import GridSearchCV\n",
    "from keras.models import Sequential\n",
    "from keras.layers import Dense\n",
    "from keras.layers import Dropout\n",
    "from keras.wrappers.scikit_learn import KerasClassifier\n",
    "from keras.constraints import maxnorm\n",
    "# import multiprocessing\n",
    "# num_processor=4\n",
    "\n",
    "X_train = np.array(df_train.drop(['Survived'],1))\n",
    "y_train = np.array(df_train['Survived'])\n",
    "\n",
    "X_test = np.array(df_test)\n",
    "\n",
    "# Function to create model, required for KerasClassifier\n",
    "def create_model(neurons1, neurons2):\n",
    "    # create model\n",
    "    model = Sequential()\n",
    "    model.add(Dense(neurons1, input_dim=20, init='uniform', activation='tanh'))\n",
    "    model.add(Dropout(0.2))\n",
    "    \n",
    "    model.add(Dense(neurons2, init='uniform', activation='tanh'))\n",
    "    model.add(Dropout(0.2))\n",
    "    \n",
    "    model.add(Dense(1, init='uniform', activation='softmax'))\n",
    "    # Compile model\n",
    "    model.compile(loss='binary_crossentropy', optimizer='adam', metrics=['accuracy'])\n",
    "    return(model)\n",
    "\n",
    "# fix random seed for reproducibility\n",
    "seed = 7\n",
    "numpy.random.seed(seed)\n",
    "# pool = multiprocessing.Pool(num_processor)\n",
    "\n",
    "# create model\n",
    "model = KerasClassifier(build_fn=create_model, \n",
    "                        nb_epoch=10, \n",
    "                        batch_size=50, \n",
    "                        verbose=0)\n",
    "\n",
    "# define the grid search parameters\n",
    "neurons1 = [1, 5, 10, 15, 20]\n",
    "neurons2 = [1, 5, 10, 15, 20]\n",
    "param_grid = dict(neurons1=neurons1, neurons2=neurons2)\n",
    "grid = GridSearchCV(estimator=model, \n",
    "                    param_grid=param_grid, \n",
    "                    cv = 5)\n",
    "grid_result = grid.fit(X_train, y_train)\n",
    "\n",
    "# summarize results\n",
    "print(\"Best: %f using %s\" % (grid_result.best_score_, grid_result.best_params_))\n",
    "# means = grid_result.cv_results_['mean_test_score']\n",
    "# stds = grid_result.cv_results_['std_test_score']\n",
    "# params = grid_result.cv_results_['params']\n",
    "# for mean, stdev, param in zip(means, stds, params):\n",
    "#     print(\"%f (%f) with: %r\" % (mean, stdev, param))"
   ]
  },
  {
   "cell_type": "code",
   "execution_count": null,
   "metadata": {
    "collapsed": true
   },
   "outputs": [],
   "source": [
    "prediction = grid_result.predict(X_test)\n",
    "\n",
    "pred = pd.DataFrame(prediction)\n",
    "pred.rename(columns={ 0 : 'Survived'}, inplace=True) \n",
    "pred['PassengerID'] = range(892, len(pred) + 892)"
   ]
  }
 ],
 "metadata": {
  "anaconda-cloud": {},
  "kernelspec": {
   "display_name": "Python [Root]",
   "language": "python",
   "name": "Python [Root]"
  },
  "language_info": {
   "codemirror_mode": {
    "name": "ipython",
    "version": 3
   },
   "file_extension": ".py",
   "mimetype": "text/x-python",
   "name": "python",
   "nbconvert_exporter": "python",
   "pygments_lexer": "ipython3",
   "version": "3.5.2"
  }
 },
 "nbformat": 4,
 "nbformat_minor": 0
}
